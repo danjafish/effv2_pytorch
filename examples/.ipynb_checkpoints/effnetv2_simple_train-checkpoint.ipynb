{
 "cells": [
  {
   "cell_type": "code",
   "execution_count": 1,
   "id": "2a398e3e",
   "metadata": {},
   "outputs": [
    {
     "name": "stdout",
     "output_type": "stream",
     "text": [
      "Populating the interactive namespace from numpy and matplotlib\n"
     ]
    }
   ],
   "source": [
    "from torch.utils.data import Dataset, DataLoader\n",
    "import torch.nn as nn\n",
    "import torch\n",
    "import torchvision\n",
    "\n",
    "import numpy as np \n",
    "from sklearn.metrics import accuracy_score, roc_auc_score\n",
    "\n",
    "%pylab inline"
   ]
  },
  {
   "cell_type": "code",
   "execution_count": 2,
   "id": "28785653",
   "metadata": {},
   "outputs": [],
   "source": [
    "from effnetv2_pytorch.effnetv2_model import EffnetV2Model\n",
    "from torchsummary import summary"
   ]
  },
  {
   "cell_type": "markdown",
   "id": "bd603d88",
   "metadata": {},
   "source": [
    "## 0 and 1 dataset"
   ]
  },
  {
   "cell_type": "code",
   "execution_count": 3,
   "id": "da4dd4b3",
   "metadata": {},
   "outputs": [],
   "source": [
    "class SimpleDataset(Dataset):\n",
    "    def __init__(self):\n",
    "        pass\n",
    "    \n",
    "    def __getitem__(self, idx):\n",
    "        label = np.random.randint(2)\n",
    "        \n",
    "        if label == 0:\n",
    "            img = np.zeros((3,256,256))\n",
    "        else:\n",
    "            img = np.ones((3,256,256))\n",
    "            \n",
    "        return img, label\n",
    "\n",
    "    def __len__(self):\n",
    "        return 1000"
   ]
  },
  {
   "cell_type": "code",
   "execution_count": 4,
   "id": "d1df7694",
   "metadata": {},
   "outputs": [],
   "source": [
    "simple_dataset = SimpleDataset()"
   ]
  },
  {
   "cell_type": "code",
   "execution_count": 5,
   "id": "7472d2cc",
   "metadata": {},
   "outputs": [],
   "source": [
    "simple_dataloader = DataLoader(simple_dataset, batch_size=4)"
   ]
  },
  {
   "cell_type": "code",
   "execution_count": 6,
   "id": "99c7e5a4",
   "metadata": {},
   "outputs": [],
   "source": [
    "model = EffnetV2Model(include_top=True, n_classes=1, model_name='efficientnetv2-s')"
   ]
  },
  {
   "cell_type": "code",
   "execution_count": 7,
   "id": "2ccca74e",
   "metadata": {},
   "outputs": [],
   "source": [
    "# class SimpleModel(nn.Module):\n",
    "#     def __init__(self):\n",
    "#         super().__init__()\n",
    "#         self.model = EffnetV2Model(include_top=False)\n",
    "#         self.classifier = nn.Linear(1280,1)\n",
    "#     def forward(self, x):\n",
    "#         x = self.model(x)\n",
    "#         return self.classifier(x)"
   ]
  },
  {
   "cell_type": "code",
   "execution_count": 8,
   "id": "703f55c6",
   "metadata": {},
   "outputs": [],
   "source": [
    "# #model = SimpleModel()\n",
    "# t = torch.rand((1,3,320,320))\n",
    "# o = model(t)"
   ]
  },
  {
   "cell_type": "code",
   "execution_count": 9,
   "id": "e0570d7e",
   "metadata": {},
   "outputs": [],
   "source": [
    "# o"
   ]
  },
  {
   "cell_type": "code",
   "execution_count": 10,
   "id": "cb1264a2",
   "metadata": {},
   "outputs": [],
   "source": [
    "loss = nn.BCEWithLogitsLoss()\n",
    "optim = torch.optim.Adam(model.parameters(), lr = 1e-3)"
   ]
  },
  {
   "cell_type": "code",
   "execution_count": null,
   "id": "0f4774f4",
   "metadata": {},
   "outputs": [],
   "source": []
  },
  {
   "cell_type": "code",
   "execution_count": 11,
   "id": "3bb8a653",
   "metadata": {},
   "outputs": [],
   "source": [
    "def train_one_epoch(model, optim, trainloader, loss):\n",
    "    train_loss = 0 \n",
    "    all_preds = []\n",
    "    all_targets = []\n",
    "    model = model.train()\n",
    "    for i, (x, y_true) in enumerate(trainloader):\n",
    "        all_targets.extend(y_true.detach().numpy())\n",
    "        x = x.float()\n",
    "        y_true = y_true.unsqueeze(1).float()\n",
    "        y_pred = model(x)\n",
    "        l = loss(y_pred, y_true)\n",
    "        optim.zero_grad()\n",
    "        l.backward()\n",
    "        optim.step()\n",
    "        train_loss += l.item() / len(trainloader)\n",
    "        if i % 20 == 0:\n",
    "            print(f'step {i}')\n",
    "        all_preds.extend(torch.sigmoid(y_pred).detach().numpy()[:,0])\n",
    "    all_preds_b = (np.array(all_preds)>0.5).astype(int)\n",
    "    a = accuracy_score(all_targets, all_preds_b)\n",
    "    r = roc_auc_score(all_targets, all_preds)\n",
    "    print(train_loss, a, r)\n",
    "    return model, optim"
   ]
  },
  {
   "cell_type": "code",
   "execution_count": null,
   "id": "c007e94d",
   "metadata": {},
   "outputs": [],
   "source": []
  },
  {
   "cell_type": "code",
   "execution_count": 12,
   "id": "66162c18",
   "metadata": {},
   "outputs": [],
   "source": [
    "# for epoch in range(10):\n",
    "#     model, optim = train_one_epoch(model, optim, simple_dataloader, loss)"
   ]
  },
  {
   "cell_type": "markdown",
   "id": "e4da3696",
   "metadata": {},
   "source": [
    "## MNIST dataset"
   ]
  },
  {
   "cell_type": "code",
   "execution_count": 13,
   "id": "7558c911",
   "metadata": {},
   "outputs": [
    {
     "name": "stderr",
     "output_type": "stream",
     "text": [
      "C:\\Work_repository\\Anaconda3\\lib\\site-packages\\torchvision\\datasets\\mnist.py:498: UserWarning: The given NumPy array is not writeable, and PyTorch does not support non-writeable tensors. This means you can write to the underlying (supposedly non-writeable) NumPy array using the tensor. You may want to copy the array to protect its data or make it writeable before converting it to a tensor. This type of warning will be suppressed for the rest of this program. (Triggered internally at  ..\\torch\\csrc\\utils\\tensor_numpy.cpp:180.)\n",
      "  return torch.from_numpy(parsed.astype(m[2], copy=False)).view(*s)\n"
     ]
    }
   ],
   "source": [
    "mnsit_data = torchvision.datasets.MNIST('../datasets/mnist/', train=True, download=True,\n",
    "                             transform=torchvision.transforms.Compose([\n",
    "                               torchvision.transforms.ToTensor(),\n",
    "                               torchvision.transforms.Normalize(\n",
    "                                 (0.1307,), (0.3081,))\n",
    "                             ]))"
   ]
  },
  {
   "cell_type": "code",
   "execution_count": 14,
   "id": "7ae9bd90",
   "metadata": {},
   "outputs": [],
   "source": [
    "mnsit_data_test = torchvision.datasets.MNIST('../datasets/mnist/', train=False, download=True,\n",
    "                             transform=torchvision.transforms.Compose([\n",
    "                               torchvision.transforms.ToTensor(),\n",
    "                               torchvision.transforms.Normalize(\n",
    "                                 (0.1307,), (0.3081,))\n",
    "                             ]))"
   ]
  },
  {
   "cell_type": "code",
   "execution_count": 15,
   "id": "09992113",
   "metadata": {},
   "outputs": [],
   "source": [
    "data_loader = torch.utils.data.DataLoader(mnsit_data,\n",
    "                                          batch_size=64,\n",
    "                                          shuffle=True,\n",
    "                                          num_workers=4)"
   ]
  },
  {
   "cell_type": "code",
   "execution_count": 16,
   "id": "7094addd",
   "metadata": {},
   "outputs": [],
   "source": [
    "test_mnist_loader = torch.utils.data.DataLoader(mnsit_data_test,\n",
    "                                          batch_size=64,\n",
    "                                          shuffle=False,\n",
    "                                          num_workers=4)"
   ]
  },
  {
   "cell_type": "code",
   "execution_count": 17,
   "id": "b24d7c9d",
   "metadata": {},
   "outputs": [
    {
     "data": {
      "text/plain": [
       "(1875, 313)"
      ]
     },
     "execution_count": 17,
     "metadata": {},
     "output_type": "execute_result"
    }
   ],
   "source": [
    "len(data_loader), len(test_mnist_loader)"
   ]
  },
  {
   "cell_type": "code",
   "execution_count": 18,
   "id": "b4efb4bf",
   "metadata": {},
   "outputs": [],
   "source": [
    "model = EffnetV2Model(include_top=True, n_classes=10, n_channels=1)"
   ]
  },
  {
   "cell_type": "code",
   "execution_count": 19,
   "id": "bf40bd8c",
   "metadata": {},
   "outputs": [],
   "source": [
    "loss = nn.CrossEntropyLoss()\n",
    "optim = torch.optim.Adam(model.parameters(), lr = 5e-4)"
   ]
  },
  {
   "cell_type": "code",
   "execution_count": 20,
   "id": "82b1e1cf",
   "metadata": {},
   "outputs": [],
   "source": [
    "# trainloader = data_loader\n",
    "# train_loss = 0 \n",
    "# all_preds = []\n",
    "# all_targets = []\n",
    "# model = model.train()\n",
    "# for i, (x, y_true) in enumerate(trainloader):\n",
    "#     all_targets.extend(y_true.detach().numpy())\n",
    "#     x = x.float()\n",
    "#     y_true = y_true.long()\n",
    "#     y_pred = model(x)\n",
    "#     l = loss(y_pred, y_true)\n",
    "#     optim.zero_grad()\n",
    "#     l.backward()\n",
    "#     optim.step()\n",
    "#     train_loss += l.item() / len(trainloader)\n",
    "#     if i % 2000 == 0:\n",
    "#         print(f'step {i}')\n",
    "#     preds = torch.nn.functional.softmax(y_pred, dim=0).detach().numpy()\n",
    "#     preds = np.argmax(preds, axis=1) \n",
    "#     all_preds.extend(preds)\n",
    "#     if i == 10:\n",
    "#         break\n",
    "    \n",
    "\n",
    "# #all_preds_b = (np.array(all_preds)>0.5).astype(int)\n",
    "# a = accuracy_score(all_targets, all_preds)\n",
    "# #r = roc_auc_score(all_targets, all_preds)\n",
    "# print(train_loss, a)\n"
   ]
  },
  {
   "cell_type": "code",
   "execution_count": null,
   "id": "1416278b",
   "metadata": {},
   "outputs": [],
   "source": []
  },
  {
   "cell_type": "code",
   "execution_count": 21,
   "id": "1f5c8756",
   "metadata": {},
   "outputs": [],
   "source": [
    "def train_one_epoch(model, optim, trainloader, loss):\n",
    "    train_loss = 0 \n",
    "    all_preds = []\n",
    "    all_targets = []\n",
    "    model = model.train()\n",
    "    for i, (x, y_true) in enumerate(trainloader):\n",
    "        all_targets.extend(y_true.detach().numpy())\n",
    "        x = x.float()\n",
    "        y_true = y_true.long()\n",
    "        y_pred = model(x)\n",
    "        l = loss(y_pred, y_true)\n",
    "        optim.zero_grad()\n",
    "        l.backward()\n",
    "        optim.step()\n",
    "        train_loss += l.item() / len(trainloader)\n",
    "        if i % 1000 == 0:\n",
    "            print(f'step {i}')\n",
    "        preds = torch.nn.functional.softmax(y_pred, dim=0).detach().numpy()\n",
    "        preds = np.argmax(preds, axis=1) \n",
    "        all_preds.extend(preds)\n",
    "        if i == 800:\n",
    "            break\n",
    "\n",
    "\n",
    "    #all_preds_b = (np.array(all_preds)>0.5).astype(int)\n",
    "    a = accuracy_score(all_targets, all_preds)\n",
    "    #r = roc_auc_score(all_targets, all_preds)\n",
    "    print('train ', train_loss, a)\n",
    "    return model, optim"
   ]
  },
  {
   "cell_type": "code",
   "execution_count": 22,
   "id": "794dfa29",
   "metadata": {},
   "outputs": [],
   "source": [
    "def val_one_epoch(model, optim, valloader, loss):\n",
    "    val_loss = 0 \n",
    "    all_preds = []\n",
    "    all_targets = []\n",
    "    with torch.no_grad():\n",
    "        model = model.eval()\n",
    "        for i, (x, y_true) in enumerate(valloader):\n",
    "            all_targets.extend(y_true.detach().numpy())\n",
    "            x = x.float()\n",
    "            y_true = y_true.long()\n",
    "            y_pred = model(x)\n",
    "            l = loss(y_pred, y_true)\n",
    "            val_loss += l.item() / len(valloader)\n",
    "            if i % 500 == 0:\n",
    "                print(f'step {i}')\n",
    "            preds = torch.nn.functional.softmax(y_pred, dim=0).detach().numpy()\n",
    "            preds = np.argmax(preds, axis=1) \n",
    "            all_preds.extend(preds)\n",
    "            if i == 500:\n",
    "                break\n",
    "\n",
    "\n",
    "    #all_preds_b = (np.array(all_preds)>0.5).astype(int)\n",
    "    a = accuracy_score(all_targets, all_preds)\n",
    "    #r = roc_auc_score(all_targets, all_preds)\n",
    "    print('validation ', val_loss, a)\n",
    "    "
   ]
  },
  {
   "cell_type": "code",
   "execution_count": 23,
   "id": "3e23ad76",
   "metadata": {},
   "outputs": [
    {
     "name": "stdout",
     "output_type": "stream",
     "text": [
      "Epoch  0\n",
      "step 0\n",
      "step 1000\n",
      "train  0.27000824939211243 0.8105956543456544\n",
      "step 0\n",
      "validation  0.23214488206937095 0.8812\n",
      "===========================\n",
      "Epoch  1\n",
      "step 0\n",
      "step 1000\n",
      "train  0.10601134681527803 0.9054383116883117\n",
      "step 0\n",
      "validation  0.08545216543974872 0.8896\n",
      "===========================\n",
      "Epoch  2\n",
      "step 0\n",
      "step 1000\n",
      "train  0.06851921037460369 0.9089660339660339\n",
      "step 0\n",
      "validation  0.07018668424135774 0.8776\n",
      "===========================\n",
      "Epoch  3\n",
      "step 0\n",
      "step 1000\n",
      "train  0.08040320037839321 0.8929507992007992\n",
      "step 0\n",
      "validation  0.061703788973510046 0.9097\n",
      "===========================\n",
      "Epoch  4\n",
      "step 0\n",
      "step 1000\n",
      "train  0.05027822950904566 0.9150536963036963\n",
      "step 0\n",
      "validation  0.05393782129270225 0.9118\n",
      "===========================\n"
     ]
    }
   ],
   "source": [
    "for epoch in range(5):\n",
    "    print('Epoch ', epoch)\n",
    "    model, optim = train_one_epoch(model, optim, data_loader, loss)\n",
    "    val_one_epoch(model, optim, test_mnist_loader, loss)\n",
    "    print('===========================')"
   ]
  },
  {
   "cell_type": "code",
   "execution_count": null,
   "id": "5b529135",
   "metadata": {},
   "outputs": [],
   "source": []
  }
 ],
 "metadata": {
  "kernelspec": {
   "display_name": "Python 3",
   "language": "python",
   "name": "python3"
  },
  "language_info": {
   "codemirror_mode": {
    "name": "ipython",
    "version": 3
   },
   "file_extension": ".py",
   "mimetype": "text/x-python",
   "name": "python",
   "nbconvert_exporter": "python",
   "pygments_lexer": "ipython3",
   "version": "3.8.8"
  }
 },
 "nbformat": 4,
 "nbformat_minor": 5
}
